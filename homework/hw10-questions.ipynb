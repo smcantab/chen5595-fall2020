{
 "cells": [
  {
   "cell_type": "markdown",
   "metadata": {},
   "source": [
    "# CHEN 5595 Homework 10"
   ]
  },
  {
   "cell_type": "markdown",
   "metadata": {},
   "source": [
    "This HW focuses on linear models for classification. It consists only of coding exercises. I provide several definitions and hints throughout that will help you.  If you are confused about anything, do not panic, send us a message on Piazza! We are here to help you learn.\n",
    "\n",
    "Please answer the numerical exercises using an ipython notebook **in [Google Colab](https://colab.research.google.com/)** (provide the link with your handwritten homework). **Please answer each coding problem  in a different cell**.\n",
    "\n",
    "You can also view this ipython notebook in your browser through [binder](https://mybinder.org/v2/gh/smcantab/chen5595-fall2020/b389546a03f6e273293255bcca52d5c2acc7fd3f?filepath=homework%2Fhw10-questions.ipynb) or through nbviewer [link](https://nbviewer.jupyter.org/github/smcantab/chen5595-fall2020/blob/master/homework/hw10-questions.ipynb)."
   ]
  },
  {
   "cell_type": "markdown",
   "metadata": {},
   "source": [
    "## Linear Models for Classification"
   ]
  },
  {
   "cell_type": "markdown",
   "metadata": {},
   "source": [
    "Consider the following python function to generate synthetic data $\\{\\mathbf{x}_n, t_n\\}$ consisting of 2-dimensional input vectors $\\mathbf{x}_n$ and target variables $t_n=\\{0, 1\\}$, with $n=1, \\dots, N$ with or without outliers."
   ]
  },
  {
   "cell_type": "code",
   "execution_count": 1,
   "metadata": {},
   "outputs": [],
   "source": [
    "import numpy as np\n",
    "\n",
    "def create_toy_data(n0=25, n1=25, n_outliers=0):\n",
    "    \"\"\"\n",
    "    Generates 2d Gaussian point clouds for binary classification problem\n",
    "    with or without outliers\n",
    "    \n",
    "    n0: int\n",
    "        number of points in class C0\n",
    "    n1: int\n",
    "        number of points in class C1\n",
    "    n_outliers : int\n",
    "        number of outliers of class C1\n",
    "    \"\"\"\n",
    "    np.random.seed(42)\n",
    "    x0 = np.random.normal(size=(n0, 2)) - 1\n",
    "    x1 = np.random.normal(size=(n1, 2)) + 1.\n",
    "    if n_outliers > 0:\n",
    "        x_1 = np.random.normal(size=(n_outliers, 2)) + np.array([5., 10])\n",
    "        return np.concatenate([x0, x1, x_1]), np.concatenate([np.zeros(n0), np.ones(n1+n_outliers)]).astype('int')\n",
    "    return np.concatenate([x0, x1]), np.concatenate([np.zeros(n0), np.ones(n1)]).astype('int')"
   ]
  },
  {
   "cell_type": "markdown",
   "metadata": {},
   "source": [
    "Which we plot as an example below, first without outliers and then with outliers"
   ]
  },
  {
   "cell_type": "code",
   "execution_count": 2,
   "metadata": {},
   "outputs": [
    {
     "data": {
      "image/png": "[encoded data removed]",
      "text/plain": [
       "<Figure size 432x288 with 1 Axes>"
      ]
     },
     "metadata": {
      "needs_background": "light"
     },
     "output_type": "display_data"
    }
   ],
   "source": [
    "import matplotlib.pyplot as plt\n",
    "x_train, y_train = create_toy_data(25, 25, 0)\n",
    "fig = plt.figure()\n",
    "ax = fig.add_subplot('111')\n",
    "ax.scatter(x_train[:, 0], x_train[:, 1], c=y_train)\n",
    "ax.set_xlim(-5, 5)\n",
    "ax.set_ylim(-5, 5)\n",
    "ax.set_aspect('equal', adjustable='box')\n",
    "_ = ax.set_title('Without outliers')"
   ]
  },
  {
   "cell_type": "code",
   "execution_count": 38,
   "metadata": {},
   "outputs": [
    {
     "data": {
      "image/png": "[encoded data removed]",
      "text/plain": [
       "<Figure size 432x288 with 1 Axes>"
      ]
     },
     "metadata": {
      "needs_background": "light"
     },
     "output_type": "display_data"
    }
   ],
   "source": [
    "x_out_train, y_out_train = create_toy_data(25, 25, 5)\n",
    "fig = plt.figure()\n",
    "ax = fig.add_subplot('111')\n",
    "ax.scatter(x_out_train[:, 0], x_out_train[:, 1], c=y_out_train)\n",
    "ax.set_xlim(-5, 10)\n",
    "ax.set_ylim(-5, 12)\n",
    "ax.set_aspect('equal', adjustable='box')\n",
    "_ = ax.set_title('With outliers')"
   ]
  },
  {
   "cell_type": "markdown",
   "metadata": {},
   "source": [
    "In what follows we will implement and compare the performance of different classification algorithms, namely least squares classification, the perceptron and logistic regression."
   ]
  },
  {
   "cell_type": "markdown",
   "metadata": {},
   "source": [
    "### Problem 1\n",
    "\n",
    "To derive least square classification for K classes, we start by defining a linear model for each class $k$\n",
    "\n",
    "$$y_k(\\mathbf{x}) = \\mathbf{w}_k^\\top \\mathbf{x} + w_{k0} $$\n",
    "\n",
    "where $k=1, \\dots, K$. We group all of them into a single equation\n",
    "\n",
    "$$\\mathbf{y}(\\mathbf{x}) =  \\tilde{\\mathbf{W}}^\\top \\tilde{\\mathbf{x}}$$\n",
    "\n",
    "where $\\tilde{\\mathbf{W}}$ is a matrix whose k-th column comprises the $D+1$ dimensional vector $\\tilde{\\mathbf{w}}_k = (w_{k0}, \\mathbf{w}_k^\\top)^\\top$, and $\\tilde{\\mathbf{x}} = (1, \\mathbf{x}^\\top)^\\top$ is the augmented input vector. A new input $\\mathbf{x}$ is classified according to which class has largest outpyt $y_k = \\tilde{\\mathbf{w}}^\\top_k \\tilde{\\mathbf{x}}$.\n",
    "\n",
    "Now consider a dataset $\\{\\mathbf{x}_n, t_n\\}$ and define a matrix $\\mathbf{T}$ whose n-th row is the 1-of-K (one-hot) encoded vector $\\mathbf{t}_n^\\top$, together with a matrix $\\tilde{\\mathbf{X}}$ whose n-th row is $\\tilde{\\mathbf{x}}_n^\\top$. We can thus introduce the sum-of-squares error function\n",
    "\n",
    "$$E_D(\\tilde{\\mathbf{W}}) = \\frac{1}{2} \\mathrm{Tr} \\left \\{ \\left ( \\tilde{\\mathbf{X}}\\tilde{\\mathbf{W}} -  \\mathbf{T} \\right)^\\top \\left ( \\tilde{\\mathbf{X}}\\tilde{\\mathbf{W}} -  \\mathbf{T} \\right) \\right \\} $$\n",
    "\n",
    "with exact minimizer\n",
    "\n",
    "$$ \\tilde{\\mathbf{W}}_{ML} = \\tilde{\\mathbf{X}}^\\dagger \\mathbf{T}$$\n",
    "\n",
    "where $\\tilde{\\mathbf{X}}^\\dagger$ is the pseudo-inverse of matrix $\\tilde{\\mathbf{X}}$. We then obtain a discriminant function in the form\n",
    "\n",
    "$$ \\mathbf{y}(\\mathbf{x}) = \\tilde{\\mathbf{W}}^\\top_{ML} \\tilde{\\mathbf{x}}$$\n",
    "\n",
    "Implement a class for the least squares classifier of the form\n",
    "\n",
    "```python\n",
    "class LeastSquaresClassifier(object):\n",
    "\n",
    "    def fit(self, X, t):\n",
    "        \"\"\"\n",
    "        X : (N, D) np.ndarray\n",
    "           training input variables\n",
    "        t : (N,K) np.ndarray\n",
    "            training target variables in 1-of-K coding\n",
    "        \"\"\"\n",
    "        self.W = # fit model parameters\n",
    "\n",
    "    def classify(self, X):\n",
    "        \"\"\"\n",
    "        X : (N, D) np.ndarray\n",
    "            unseed input variables\n",
    "        Returns\n",
    "        -------\n",
    "        (N,) np.ndarray\n",
    "            class index for each input\n",
    "        \"\"\"\n",
    "        return #list of classification labels\n",
    "```\n",
    "\n",
    "Then fit `x_train, y_train` and `x_out_train, y_out_train`, for each produce a graph showing the individual points colored according to the predicted class and color the background according to the predicted class that would be assigned to each region of space (e.g. you could do this using the matplotlib function [`contourf`](https://matplotlib.org/3.1.1/gallery/images_contours_and_fields/contourf_demo.html)). Provide a justification for the behaviour that you observe in each case."
   ]
  },
  {
   "cell_type": "markdown",
   "metadata": {},
   "source": [
    "### Problem 2\n",
    "\n",
    "The perceptron algorithm is an iterative algorithm to solve a binary classification problem that aims to minimize the so-called _perceptron criterion_ given by\n",
    "\n",
    "$$ E_P = - \\sum_{n \\in \\mathcal{M}} \\mathbf{w}^\\top \\mathbf{\\phi}_n t_n$$\n",
    "\n",
    "where $\\mathbf{\\phi}_n = \\mathbf{\\phi}(\\mathbf{x}_n)$ is a set of linear basis functions, $\\mathcal{M}$ denotes the set of all misclassified patters, and $t_n = \\{-1, 1\\}$ is a binary label. To minimize the perceptron criterion we apply the stochastic gradient descent (SGD) alogirthm\n",
    "\n",
    "$$ \\mathbf{w}^{(\\tau+1)} = \\mathbf{w}^{(\\tau)} - \\nabla E_P(\\mathbf{w}) = \\mathbf{w}^{(\\tau+1)} + \\mathbf{\\phi}_n t_n$$\n",
    "\n",
    "where we have implicitely taken the training rate to be $\\eta=1$ without loss of generality. In other words, we cycle through the training patterns in turn, and for each pattern $\\mathbf{x}_n$ we evaluate the perceptron function\n",
    "\n",
    "$$ y(\\mathbf{x}) = \\mathrm{sign}\\left(\\mathbf{w}^\\top \\phi(\\mathbf{x}) \\right)$$\n",
    "\n",
    "If the pattern is correctly classified, then the weight vector remains unchanged, if the pattern is incorrectly misclassified, then we add $\\mathbf{\\phi}_n t_n$ to the weight vector (as prescribed by SGD). \n",
    "\n",
    "Take $\\mathbf{\\phi}_n=\\mathbf{x}_n$ and implement the perceptron using a class of the form\n",
    "\n",
    "```python\n",
    "class Perceptron(object):\n",
    "\n",
    "    def fit(self, X, t, max_iter=100):\n",
    "        \"\"\"\n",
    "        X : (N, D) np.ndarray\n",
    "            training input variables\n",
    "        t : (N,)\n",
    "            training target variable (binary -1 or 1)\n",
    "        max_iter : int, optional\n",
    "            maximum number of iterations (the default is 100)\n",
    "        \"\"\"\n",
    "        self.w = np.zeros(np.size(X, 1))\n",
    "        # write a for loop to iteratively update the weight vector self.w\n",
    "        # until it doesn't change anymore or max_iter is exceeded\n",
    "\n",
    "    def classify(self, X):\n",
    "        \"\"\"\n",
    "        X : (N, D) np.ndarray\n",
    "            input variables to be classified\n",
    "        Returns\n",
    "        -------\n",
    "        (N,) np.ndarray\n",
    "            binary class (-1 or 1) for each input\n",
    "        \"\"\"\n",
    "        return #perceptron function evaluated on X\n",
    "```\n",
    "\n",
    "Perform the classification as in Problem 1 and generate the same figure but using the perceptron. In addition, generate 4 plots showing the evolution of the decision boundary as a function of iterations (you can allow for multiple steps in between)."
   ]
  },
  {
   "cell_type": "markdown",
   "metadata": {},
   "source": [
    "### Problem 3\n",
    "\n",
    "Logistic regression is an approach to binary classification that directly models the posterior probability of class $\\mathcal{C}_1$ in terms of a generalized linear model of the form\n",
    "\n",
    "$$p(\\mathcal{C}_1|\\mathbf{\\phi}) = y(\\mathbf{\\phi}) = \\sigma \\left( \\mathbf{w}^\\top \\mathbf{\\phi}\\right) $$\n",
    "\n",
    "with $p(\\mathcal{C}_2|\\mathbf{\\phi}) = 1 - p(\\mathcal{C}_1|\\mathbf{\\phi})$, and $\\sigma(\\cdot)$ is the logistic sigmoid function. This is called _logistic regression_ (even though it is a model for classification, not regression). The error function for the logistic sigmoid is (the negative log-likelihood)\n",
    "\n",
    "$$E(\\mathbf{w}) = - \\sum_{n=1}^{N} \\left \\{ t_n \\log y_n + (1-t_n) \\log (1-y_n) \\right \\}$$\n",
    "\n",
    "The solution to logistic regression cannot be found in closed form due to the nonlinearity of the logistic sigmoid function. Nevertheless the error function is convex, and a solution can be found efficiently by _Newton-Raphson_ iterative optimization, which leads to so-called _iterative reweighted least squares_ (IRLS). The Newton-Raphson update formula is\n",
    "\n",
    "$$\\mathbf{w}^{(\\mathrm{new})} = \\mathbf{w}^{(\\mathrm{old})} - \\mathbf{H}^{-1} \\nabla E(\\mathbf{w}) = (\\mathbf{\\Phi}^\\top \\mathbf{R} \\mathbf{\\Phi})^{-1}\\mathbf{\\Phi}^\\top (\\mathbf{y} - \\mathbf{t})$$\n",
    "\n",
    "where $\\mathbf{R}$ is an $N \\times N$ diagonal matrix called _reweighting matrix_ with elements\n",
    "\n",
    "$$R_{nn} = y_n (1-y_n)$$\n",
    "\n",
    "and we used\n",
    "\n",
    "$$ \\nabla E (\\mathbf{w}) = \\mathbf{\\Phi}^\\top (\\mathbf{y} - \\mathbf{t}) $$\n",
    "\n",
    "$$\\mathbf{H} = \\nabla \\nabla E (\\mathbf{w}) = \\mathbf{\\Phi}^\\top \\mathbf{R} \\mathbf{\\Phi} $$\n",
    "\n",
    "Take $\\mathbf{\\phi}_n=\\mathbf{x}_n$ and implement the perceptron using a class of the form\n",
    "\n",
    "```python\n",
    "class LogisticRegression(object):\n",
    "\n",
    "    def sigmoid(a):\n",
    "        return np.tanh(a * 0.5) * 0.5 + 0.5\n",
    "\n",
    "    def fit(self, X, t, max_iter=100):\n",
    "        \"\"\"\n",
    "        X : (N, D) np.ndarray\n",
    "            training input variable\n",
    "        t : (N,) np.ndarray\n",
    "            training target variable\n",
    "            binary 0 or 1\n",
    "        max_iter : int, optional\n",
    "            maximum number of iterations (the default is 100)\n",
    "        \"\"\"\n",
    "        w = np.zeros(np.size(X, 1))\n",
    "        # implement the Newton Raphson scheme to update the value of w until convergence\n",
    "        # or until max_iter has been exceeded\n",
    "        self.w = w\n",
    "\n",
    "    def probability(self, X):\n",
    "        \"\"\"\n",
    "        X : (N, D) np.ndarray\n",
    "            training input variable\n",
    "        Returns\n",
    "        -------\n",
    "        (N,) np.ndarray\n",
    "            posterior probability of class C1\n",
    "        \"\"\"\n",
    "        return #probability of X belonging to C1\n",
    "\n",
    "    def classify(self, X, threshold):\n",
    "        \"\"\"\n",
    "        X : (N, D) np.ndarray\n",
    "            unseen input variable to be classified\n",
    "        threshold : float, optional\n",
    "            threshold of binary classification (default is 0.5)\n",
    "        Returns\n",
    "        -------\n",
    "        (N,) np.ndarray\n",
    "            binary class for each input\n",
    "        \"\"\"\n",
    "        return #labels for X\n",
    "```\n",
    "\n",
    "Perform the classification as in Problem 1 and generate the same figure but using logistic regression. This time color the background of the graphs according to the probabilities, not the predicted class. Provide a justification for the behaviour that you observe in each case when compared with the perceptron and least square classification."
   ]
  }
 ],
 "metadata": {
  "kernelspec": {
   "display_name": "Python 3",
   "language": "python",
   "name": "python3"
  },
  "language_info": {
   "codemirror_mode": {
    "name": "ipython",
    "version": 3
   },
   "file_extension": ".py",
   "mimetype": "text/x-python",
   "name": "python",
   "nbconvert_exporter": "python",
   "pygments_lexer": "ipython3",
   "version": "3.8.3"
  }
 },
 "nbformat": 4,
 "nbformat_minor": 4
}
